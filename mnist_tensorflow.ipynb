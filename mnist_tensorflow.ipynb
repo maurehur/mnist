{
 "cells": [
  {
   "cell_type": "code",
   "execution_count": 1,
   "metadata": {},
   "outputs": [],
   "source": [
    "from PIL import Image\n",
    "import os\n",
    "import matplotlib.pyplot as plt\n",
    "import pandas as pd\n",
    "import numpy as np\n",
    "import cv2\n",
    "import tensorflow as tf\n",
    "import functools\n",
    "from data_downloader.get import dado\n",
    "\n",
    "%matplotlib inline"
   ]
  },
  {
   "cell_type": "code",
   "execution_count": 2,
   "metadata": {},
   "outputs": [
    {
     "name": "stdout",
     "output_type": "stream",
     "text": [
      "###################################################\n",
      "Attempting to download: mnist\n",
      "###################################################\n",
      "- Opening url: http://yann.lecun.com/exdb/mnist/train-images-idx3-ubyte.gz\n",
      "- Progress: 100%\n",
      "- Download Complete!\n",
      "- Found and verified: mnist-train.gz\n",
      "- Opening url: http://yann.lecun.com/exdb/mnist/train-labels-idx1-ubyte.gz\n",
      "- Progress: 100%\n",
      "- Download Complete!\n",
      "- Found and verified: mnist-train-label.gz\n",
      "- Opening url: http://yann.lecun.com/exdb/mnist/t10k-images-idx3-ubyte.gz\n",
      "- Progress: 100%\n",
      "- Download Complete!\n",
      "- Found and verified: mnist-test.gz\n",
      "- Opening url: http://yann.lecun.com/exdb/mnist/t10k-labels-idx1-ubyte.gz\n",
      "- Progress: 100%\n",
      "- Download Complete!\n",
      "- Found and verified: mnist-test-label.gz\n",
      "- Extracting mnist-train.gz\n",
      "- Extracting mnist-train-label.gz\n",
      "- Extracting mnist-test.gz\n",
      "- Extracting mnist-test-label.gz\n",
      "- Moving Files and built training-data.csv\n",
      "- Moving Files and built test-data.csv\n",
      "- Removing gz files\n",
      "\n"
     ]
    }
   ],
   "source": [
    "data = dado(\"mnist\", rm=True)"
   ]
  },
  {
   "cell_type": "code",
   "execution_count": 3,
   "metadata": {},
   "outputs": [],
   "source": [
    "def load_data(path, df):\n",
    "    df = pd.read_pickle(os.path.join(path, df))   \n",
    "    return df\n",
    "\n",
    "path = 'data/mnist'\n",
    "\n",
    "df_train = load_data(path, 'training-data.csv')\n",
    "df_test = load_data(path, 'test-data.csv')"
   ]
  },
  {
   "cell_type": "code",
   "execution_count": 4,
   "metadata": {},
   "outputs": [
    {
     "data": {
      "image/png": "[encoded data removed]",
      "text/plain": [
       "<Figure size 720x288 with 1 Axes>"
      ]
     },
     "metadata": {},
     "output_type": "display_data"
    },
    {
     "name": "stdout",
     "output_type": "stream",
     "text": [
      "Train dataset size:  60000\n"
     ]
    }
   ],
   "source": [
    "plt.figure(figsize=(10,4))\n",
    "df_train.class_id.hist(bins=10, color='r')\n",
    "plt.xlabel('Class Id')\n",
    "plt.ylabel('Counts')\n",
    "plt.show()\n",
    "print('Train dataset size: ', len(df_train.class_id))"
   ]
  },
  {
   "cell_type": "code",
   "execution_count": 5,
   "metadata": {},
   "outputs": [
    {
     "data": {
      "image/png": "[encoded data removed]",
      "text/plain": [
       "<Figure size 720x288 with 1 Axes>"
      ]
     },
     "metadata": {},
     "output_type": "display_data"
    },
    {
     "name": "stdout",
     "output_type": "stream",
     "text": [
      "Test dataset size:  10000\n"
     ]
    }
   ],
   "source": [
    "plt.figure(figsize=(10,4))\n",
    "df_test.class_id.hist(bins=10, color='r')\n",
    "plt.xlabel('Class Id')\n",
    "plt.ylabel('Counts')\n",
    "plt.show()\n",
    "print('Test dataset size: ', len(df_test.class_id))"
   ]
  },
  {
   "cell_type": "code",
   "execution_count": 6,
   "metadata": {},
   "outputs": [
    {
     "data": {
      "text/html": [
       "<div>\n",
       "<style scoped>\n",
       "    .dataframe tbody tr th:only-of-type {\n",
       "        vertical-align: middle;\n",
       "    }\n",
       "\n",
       "    .dataframe tbody tr th {\n",
       "        vertical-align: top;\n",
       "    }\n",
       "\n",
       "    .dataframe thead th {\n",
       "        text-align: right;\n",
       "    }\n",
       "</style>\n",
       "<table border=\"1\" class=\"dataframe\">\n",
       "  <thead>\n",
       "    <tr style=\"text-align: right;\">\n",
       "      <th></th>\n",
       "      <th>class_id</th>\n",
       "      <th>filename</th>\n",
       "      <th>image</th>\n",
       "    </tr>\n",
       "  </thead>\n",
       "  <tbody>\n",
       "    <tr>\n",
       "      <th>0</th>\n",
       "      <td>5</td>\n",
       "      <td>/home/mauricio/Documents/tutoriales/mnist/data...</td>\n",
       "      <td>[[0.0, 0.0, 0.0, 0.0, 0.0, 0.0, 0.0, 0.0, 0.0,...</td>\n",
       "    </tr>\n",
       "    <tr>\n",
       "      <th>1</th>\n",
       "      <td>0</td>\n",
       "      <td>/home/mauricio/Documents/tutoriales/mnist/data...</td>\n",
       "      <td>[[0.0, 0.0, 0.0, 0.0, 0.0, 0.0, 0.0, 0.0, 0.0,...</td>\n",
       "    </tr>\n",
       "    <tr>\n",
       "      <th>2</th>\n",
       "      <td>4</td>\n",
       "      <td>/home/mauricio/Documents/tutoriales/mnist/data...</td>\n",
       "      <td>[[0.0, 0.0, 0.0, 0.0, 0.0, 0.0, 0.0, 0.0, 0.0,...</td>\n",
       "    </tr>\n",
       "    <tr>\n",
       "      <th>3</th>\n",
       "      <td>1</td>\n",
       "      <td>/home/mauricio/Documents/tutoriales/mnist/data...</td>\n",
       "      <td>[[0.0, 0.0, 0.0, 0.0, 0.0, 0.0, 0.0, 0.0, 0.0,...</td>\n",
       "    </tr>\n",
       "    <tr>\n",
       "      <th>4</th>\n",
       "      <td>9</td>\n",
       "      <td>/home/mauricio/Documents/tutoriales/mnist/data...</td>\n",
       "      <td>[[0.0, 0.0, 0.0, 0.0, 0.0, 0.0, 0.0, 0.0, 0.0,...</td>\n",
       "    </tr>\n",
       "  </tbody>\n",
       "</table>\n",
       "</div>"
      ],
      "text/plain": [
       "   class_id                                           filename  \\\n",
       "0         5  /home/mauricio/Documents/tutoriales/mnist/data...   \n",
       "1         0  /home/mauricio/Documents/tutoriales/mnist/data...   \n",
       "2         4  /home/mauricio/Documents/tutoriales/mnist/data...   \n",
       "3         1  /home/mauricio/Documents/tutoriales/mnist/data...   \n",
       "4         9  /home/mauricio/Documents/tutoriales/mnist/data...   \n",
       "\n",
       "                                               image  \n",
       "0  [[0.0, 0.0, 0.0, 0.0, 0.0, 0.0, 0.0, 0.0, 0.0,...  \n",
       "1  [[0.0, 0.0, 0.0, 0.0, 0.0, 0.0, 0.0, 0.0, 0.0,...  \n",
       "2  [[0.0, 0.0, 0.0, 0.0, 0.0, 0.0, 0.0, 0.0, 0.0,...  \n",
       "3  [[0.0, 0.0, 0.0, 0.0, 0.0, 0.0, 0.0, 0.0, 0.0,...  \n",
       "4  [[0.0, 0.0, 0.0, 0.0, 0.0, 0.0, 0.0, 0.0, 0.0,...  "
      ]
     },
     "execution_count": 6,
     "metadata": {},
     "output_type": "execute_result"
    }
   ],
   "source": [
    "df_train.head()"
   ]
  },
  {
   "cell_type": "code",
   "execution_count": 7,
   "metadata": {},
   "outputs": [
    {
     "data": {
      "image/png": "[encoded data removed]",
      "text/plain": [
       "<Figure size 720x720 with 10 Axes>"
      ]
     },
     "metadata": {},
     "output_type": "display_data"
    }
   ],
   "source": [
    "fig=plt.figure(figsize=(10, 10))\n",
    "rows = 4\n",
    "cols = 5\n",
    "\n",
    "for i in range(1, 11):\n",
    "    img = df_train.image[df_train['class_id']==i-1].values\n",
    "    ax = fig.add_subplot(rows, cols, i)\n",
    "    ax.imshow(img[0], cmap='gray')\n",
    "    ax.tick_params(axis='both', left=False, top=False, right=False, bottom=False, labelleft=False, labeltop=False, labelright=False, labelbottom=False)   \n",
    "    ax.set_xlabel('Number {}'.format(i-1))\n",
    "plt.show()"
   ]
  },
  {
   "cell_type": "code",
   "execution_count": 8,
   "metadata": {},
   "outputs": [],
   "source": [
    "# Training Parameters\n",
    "learning_rate = 0.001\n",
    "num_steps = 2000\n",
    "batch_size = 100\n",
    "epochs = 5\n",
    "\n",
    "# Network Parameters\n",
    "num_classes = 10 \n",
    "dropout = 0.25"
   ]
  },
  {
   "cell_type": "code",
   "execution_count": 9,
   "metadata": {},
   "outputs": [],
   "source": [
    "# Neural Network\n",
    "def conv_net(features, labels, mode):\n",
    "    \n",
    "    print()\n",
    "    print(\"#######################\")\n",
    "    print(\"Model\")\n",
    "    print(\"#######################\")\n",
    "    \n",
    "    input_layer = tf.reshape(features[\"image\"], [-1, 28, 28, 1]);print(input_layer)\n",
    "\n",
    "    conv1 = tf.layers.conv2d(input_layer, 32, 5, activation=tf.nn.relu); print(conv1)\n",
    "    pool1 = tf.layers.max_pooling2d(conv1, 2, 2); print(pool1)\n",
    "\n",
    "    conv2 = tf.layers.conv2d(pool1, 64, 5, activation=tf.nn.relu); print(conv2)\n",
    "    pool2 = tf.layers.max_pooling2d(conv2, 2, 2); print(pool2)\n",
    "\n",
    "    # Flatten the data to a 1-D vector for the fully connected layer\n",
    "    pool2_flat = tf.contrib.layers.flatten(pool2); print(pool2_flat)\n",
    "\n",
    "    #fully connected layer\n",
    "    dense = tf.layers.dense(pool2_flat, 1024, activation=tf.nn.relu); print(dense)\n",
    "\n",
    "    #dropout\n",
    "    fc1 = tf.layers.dropout(dense, rate=dropout, training=mode == tf.estimator.ModeKeys.TRAIN); print(fc1)\n",
    "    logits = tf.layers.dense(fc1, units=num_classes); print(logits)\n",
    "    print(\"#######################\")\n",
    "    print()\n",
    "\n",
    "\n",
    "    predictions = {\n",
    "        \"classes\": tf.argmax(input=logits, axis=1),\n",
    "        \"probabilities\": tf.nn.softmax(logits, name=\"softmax_tensor\")\n",
    "    }\n",
    "\n",
    "    if mode == tf.estimator.ModeKeys.PREDICT:\n",
    "        return tf.estimator.EstimatorSpec(mode=mode, predictions=predictions)\n",
    "\n",
    "    # Calculate Loss\n",
    "    onehot_labels = tf.one_hot(indices=tf.cast(labels, tf.int32), depth=num_classes)\n",
    "    loss = tf.losses.softmax_cross_entropy(\n",
    "        onehot_labels=onehot_labels, logits=logits)\n",
    "\n",
    "    # Configure the Training Op\n",
    "    if mode == tf.estimator.ModeKeys.TRAIN:\n",
    "        optimizer = tf.train.AdamOptimizer(learning_rate=learning_rate)\n",
    "        train_op = optimizer.minimize(loss=loss, global_step=tf.train.get_global_step())\n",
    "        return tf.estimator.EstimatorSpec(mode=mode, loss=loss, train_op=train_op)\n",
    "\n",
    "    # Add evaluation metrics (for EVAL mode)\n",
    "    eval_metric_ops = {\n",
    "        \"accuracy\": tf.metrics.accuracy(\n",
    "            labels=labels, predictions=predictions[\"classes\"])}\n",
    "    return tf.estimator.EstimatorSpec(\n",
    "        mode=mode, loss=loss, eval_metric_ops=eval_metric_ops)"
   ]
  },
  {
   "cell_type": "code",
   "execution_count": 10,
   "metadata": {},
   "outputs": [
    {
     "name": "stdout",
     "output_type": "stream",
     "text": [
      "INFO:tensorflow:Using default config.\n",
      "INFO:tensorflow:Using config: {'_model_dir': 'models/mnist', '_tf_random_seed': None, '_save_summary_steps': 100, '_save_checkpoints_steps': None, '_save_checkpoints_secs': 600, '_session_config': None, '_keep_checkpoint_max': 5, '_keep_checkpoint_every_n_hours': 10000, '_log_step_count_steps': 100, '_train_distribute': None, '_service': None, '_cluster_spec': <tensorflow.python.training.server_lib.ClusterSpec object at 0x7f0184c56630>, '_task_type': 'worker', '_task_id': 0, '_global_id_in_cluster': 0, '_master': '', '_evaluation_master': '', '_is_chief': True, '_num_ps_replicas': 0, '_num_worker_replicas': 1}\n"
     ]
    }
   ],
   "source": [
    "model = tf.estimator.Estimator(model_fn=conv_net, \n",
    "        model_dir=\"models/mnist\")"
   ]
  },
  {
   "cell_type": "code",
   "execution_count": 11,
   "metadata": {},
   "outputs": [],
   "source": [
    "def process(df, epochs=epochs, steps=num_steps, batch_size=batch_size):\n",
    "    \n",
    "    if epochs:\n",
    "        steps = int(len(df)/batch_size)*epochs\n",
    "        \n",
    "    for _ in range(steps):\n",
    "        data_set = df.sample(n=batch_size)\n",
    "        image = list([np.array(Image.open(i)) for i in data_set.filename])\n",
    "        labels = data_set['class_id'].values\n",
    "        yield image, labels\n",
    "          \n",
    "def input_fn(df):\n",
    "    dataset = tf.data.Dataset.from_generator(\n",
    "        functools.partial(process, df=df),\n",
    "        (tf.float32, tf.float32),\n",
    "        (tf.TensorShape([batch_size, 28, 28]), tf.TensorShape([batch_size]))\n",
    "    )\n",
    "    features, labels = dataset.make_one_shot_iterator().get_next()\n",
    "    return {'image': features}, labels"
   ]
  },
  {
   "cell_type": "code",
   "execution_count": 12,
   "metadata": {
    "scrolled": true
   },
   "outputs": [
    {
     "name": "stdout",
     "output_type": "stream",
     "text": [
      "INFO:tensorflow:Calling model_fn.\n",
      "\n",
      "#######################\n",
      "Model\n",
      "#######################\n",
      "Tensor(\"Reshape:0\", shape=(100, 28, 28, 1), dtype=float32)\n",
      "Tensor(\"conv2d/Relu:0\", shape=(100, 24, 24, 32), dtype=float32)\n",
      "Tensor(\"max_pooling2d/MaxPool:0\", shape=(100, 12, 12, 32), dtype=float32)\n",
      "Tensor(\"conv2d_1/Relu:0\", shape=(100, 8, 8, 64), dtype=float32)\n",
      "Tensor(\"max_pooling2d_1/MaxPool:0\", shape=(100, 4, 4, 64), dtype=float32)\n",
      "Tensor(\"Flatten/flatten/Reshape:0\", shape=(100, 1024), dtype=float32)\n",
      "Tensor(\"dense/Relu:0\", shape=(100, 1024), dtype=float32)\n",
      "Tensor(\"dropout/dropout/mul:0\", shape=(100, 1024), dtype=float32)\n",
      "Tensor(\"dense_1/BiasAdd:0\", shape=(100, 10), dtype=float32)\n",
      "#######################\n",
      "\n",
      "INFO:tensorflow:Done calling model_fn.\n",
      "INFO:tensorflow:Create CheckpointSaverHook.\n",
      "INFO:tensorflow:Graph was finalized.\n",
      "INFO:tensorflow:Restoring parameters from models/mnist/model.ckpt-3000\n",
      "INFO:tensorflow:Running local_init_op.\n",
      "INFO:tensorflow:Done running local_init_op.\n",
      "INFO:tensorflow:Saving checkpoints for 3001 into models/mnist/model.ckpt.\n",
      "INFO:tensorflow:loss = 0.010437084, step = 3000\n",
      "INFO:tensorflow:global_step/sec: 52.5631\n",
      "INFO:tensorflow:loss = 0.030755252, step = 3100 (1.903 sec)\n",
      "INFO:tensorflow:global_step/sec: 54.3101\n",
      "INFO:tensorflow:loss = 0.013384641, step = 3200 (1.841 sec)\n",
      "INFO:tensorflow:global_step/sec: 42.8386\n",
      "INFO:tensorflow:loss = 0.018998243, step = 3300 (2.335 sec)\n",
      "INFO:tensorflow:global_step/sec: 54.8682\n",
      "INFO:tensorflow:loss = 0.0010419409, step = 3400 (1.822 sec)\n",
      "INFO:tensorflow:global_step/sec: 53.4649\n",
      "INFO:tensorflow:loss = 0.011019732, step = 3500 (1.870 sec)\n",
      "INFO:tensorflow:global_step/sec: 56.9376\n",
      "INFO:tensorflow:loss = 0.111713715, step = 3600 (1.756 sec)\n",
      "INFO:tensorflow:global_step/sec: 56.4208\n",
      "INFO:tensorflow:loss = 0.03037045, step = 3700 (1.772 sec)\n",
      "INFO:tensorflow:global_step/sec: 51.5324\n",
      "INFO:tensorflow:loss = 0.0014293777, step = 3800 (1.941 sec)\n",
      "INFO:tensorflow:global_step/sec: 60.5473\n",
      "INFO:tensorflow:loss = 0.00515015, step = 3900 (1.652 sec)\n",
      "INFO:tensorflow:global_step/sec: 53.1763\n",
      "INFO:tensorflow:loss = 0.00047476726, step = 4000 (1.880 sec)\n",
      "INFO:tensorflow:global_step/sec: 39.8685\n",
      "INFO:tensorflow:loss = 0.027168488, step = 4100 (2.508 sec)\n",
      "INFO:tensorflow:global_step/sec: 57.3742\n",
      "INFO:tensorflow:loss = 0.0011662103, step = 4200 (1.743 sec)\n",
      "INFO:tensorflow:global_step/sec: 49.5776\n",
      "INFO:tensorflow:loss = 0.0056281243, step = 4300 (2.018 sec)\n",
      "INFO:tensorflow:global_step/sec: 59.3131\n",
      "INFO:tensorflow:loss = 0.004076294, step = 4400 (1.686 sec)\n",
      "INFO:tensorflow:global_step/sec: 59.9546\n",
      "INFO:tensorflow:loss = 0.00011645118, step = 4500 (1.668 sec)\n",
      "INFO:tensorflow:global_step/sec: 60.1184\n",
      "INFO:tensorflow:loss = 0.00082187593, step = 4600 (1.663 sec)\n",
      "INFO:tensorflow:global_step/sec: 59.7939\n",
      "INFO:tensorflow:loss = 0.004765081, step = 4700 (1.672 sec)\n",
      "INFO:tensorflow:global_step/sec: 58.0773\n",
      "INFO:tensorflow:loss = 0.03697381, step = 4800 (1.722 sec)\n",
      "INFO:tensorflow:global_step/sec: 61.3259\n",
      "INFO:tensorflow:loss = 0.028533032, step = 4900 (1.631 sec)\n",
      "INFO:tensorflow:global_step/sec: 60.4213\n",
      "INFO:tensorflow:loss = 0.047270983, step = 5000 (1.655 sec)\n",
      "INFO:tensorflow:global_step/sec: 60.7277\n",
      "INFO:tensorflow:loss = 0.15043135, step = 5100 (1.647 sec)\n",
      "INFO:tensorflow:global_step/sec: 58.112\n",
      "INFO:tensorflow:loss = 0.15136257, step = 5200 (1.721 sec)\n",
      "INFO:tensorflow:global_step/sec: 56.4648\n",
      "INFO:tensorflow:loss = 0.055311922, step = 5300 (1.771 sec)\n",
      "INFO:tensorflow:global_step/sec: 57.6866\n",
      "INFO:tensorflow:loss = 0.003043359, step = 5400 (1.733 sec)\n",
      "INFO:tensorflow:global_step/sec: 54.6255\n",
      "INFO:tensorflow:loss = 0.06864577, step = 5500 (1.831 sec)\n",
      "INFO:tensorflow:global_step/sec: 53.6625\n",
      "INFO:tensorflow:loss = 0.045697637, step = 5600 (1.864 sec)\n",
      "INFO:tensorflow:global_step/sec: 56.7856\n",
      "INFO:tensorflow:loss = 0.09524125, step = 5700 (1.761 sec)\n",
      "INFO:tensorflow:global_step/sec: 57.4204\n",
      "INFO:tensorflow:loss = 0.002224454, step = 5800 (1.741 sec)\n",
      "INFO:tensorflow:global_step/sec: 51.3377\n",
      "INFO:tensorflow:loss = 0.08711045, step = 5900 (1.948 sec)\n",
      "INFO:tensorflow:Saving checkpoints for 6000 into models/mnist/model.ckpt.\n",
      "INFO:tensorflow:Loss for final step: 0.0071478947.\n"
     ]
    },
    {
     "data": {
      "text/plain": [
       "<tensorflow.python.estimator.estimator.Estimator at 0x7f0184c56780>"
      ]
     },
     "execution_count": 12,
     "metadata": {},
     "output_type": "execute_result"
    }
   ],
   "source": [
    "# train the model\n",
    "model.train(input_fn=functools.partial(input_fn, df=df_train))"
   ]
  },
  {
   "cell_type": "code",
   "execution_count": 13,
   "metadata": {},
   "outputs": [
    {
     "name": "stdout",
     "output_type": "stream",
     "text": [
      "INFO:tensorflow:Calling model_fn.\n",
      "\n",
      "#######################\n",
      "Model\n",
      "#######################\n",
      "Tensor(\"Reshape:0\", shape=(100, 28, 28, 1), dtype=float32)\n",
      "Tensor(\"conv2d/Relu:0\", shape=(100, 24, 24, 32), dtype=float32)\n",
      "Tensor(\"max_pooling2d/MaxPool:0\", shape=(100, 12, 12, 32), dtype=float32)\n",
      "Tensor(\"conv2d_1/Relu:0\", shape=(100, 8, 8, 64), dtype=float32)\n",
      "Tensor(\"max_pooling2d_1/MaxPool:0\", shape=(100, 4, 4, 64), dtype=float32)\n",
      "Tensor(\"Flatten/flatten/Reshape:0\", shape=(100, 1024), dtype=float32)\n",
      "Tensor(\"dense/Relu:0\", shape=(100, 1024), dtype=float32)\n",
      "Tensor(\"dropout/Identity:0\", shape=(100, 1024), dtype=float32)\n",
      "Tensor(\"dense_1/BiasAdd:0\", shape=(100, 10), dtype=float32)\n",
      "#######################\n",
      "\n",
      "INFO:tensorflow:Done calling model_fn.\n",
      "INFO:tensorflow:Starting evaluation at 2018-07-06-23:51:02\n",
      "INFO:tensorflow:Graph was finalized.\n",
      "INFO:tensorflow:Restoring parameters from models/mnist/model.ckpt-6000\n",
      "INFO:tensorflow:Running local_init_op.\n",
      "INFO:tensorflow:Done running local_init_op.\n",
      "INFO:tensorflow:Finished evaluation at 2018-07-06-23:51:09\n",
      "INFO:tensorflow:Saving dict for global step 6000: accuracy = 0.9897, global_step = 6000, loss = 0.04863465\n"
     ]
    },
    {
     "data": {
      "text/plain": [
       "{'accuracy': 0.9897, 'loss': 0.04863465, 'global_step': 6000}"
      ]
     },
     "execution_count": 13,
     "metadata": {},
     "output_type": "execute_result"
    }
   ],
   "source": [
    "# Evaluate the Model\n",
    "model.evaluate(input_fn=functools.partial(input_fn, df=df_test))"
   ]
  },
  {
   "cell_type": "code",
   "execution_count": null,
   "metadata": {},
   "outputs": [],
   "source": []
  }
 ],
 "metadata": {
  "kernelspec": {
   "display_name": "Python 3",
   "language": "python",
   "name": "python3"
  },
  "language_info": {
   "codemirror_mode": {
    "name": "ipython",
    "version": 3
   },
   "file_extension": ".py",
   "mimetype": "text/x-python",
   "name": "python",
   "nbconvert_exporter": "python",
   "pygments_lexer": "ipython3",
   "version": "3.6.4"
  }
 },
 "nbformat": 4,
 "nbformat_minor": 2
}
