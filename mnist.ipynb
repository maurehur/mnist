{
 "cells": [
  {
   "cell_type": "code",
   "execution_count": 1,
   "metadata": {},
   "outputs": [
    {
     "name": "stderr",
     "output_type": "stream",
     "text": [
      "/home/ubuntu/anaconda3/envs/tensorflow_p36/lib/python3.6/importlib/_bootstrap.py:219: RuntimeWarning: compiletime version 3.5 of module 'tensorflow.python.framework.fast_tensor_util' does not match runtime version 3.6\n",
      "  return f(*args, **kwds)\n"
     ]
    }
   ],
   "source": [
    "import scipy\n",
    "from imageio import imread\n",
    "import PIL\n",
    "from PIL import Image\n",
    "import os\n",
    "import matplotlib.pyplot as plt\n",
    "import pandas as pd\n",
    "import numpy as np\n",
    "import cv2\n",
    "import cytoolz as cz\n",
    "import tensorflow as tf\n",
    "import idx2numpy\n",
    "import functools\n",
    "from dataget import data \n",
    "\n",
    "%matplotlib inline"
   ]
  },
  {
   "cell_type": "code",
   "execution_count": 2,
   "metadata": {},
   "outputs": [],
   "source": [
    "dataset = data(\"mnist\").get()"
   ]
  },
  {
   "cell_type": "code",
   "execution_count": 3,
   "metadata": {},
   "outputs": [
    {
     "data": {
      "image/png": "[encoded data removed]",
      "text/plain": [
       "<matplotlib.figure.Figure at 0x7fab8dfe21d0>"
      ]
     },
     "metadata": {},
     "output_type": "display_data"
    },
    {
     "name": "stdout",
     "output_type": "stream",
     "text": [
      "Dataset size:  60000\n"
     ]
    }
   ],
   "source": [
    "df = dataset.training_set.dataframe()\n",
    "df = df.sample(frac=1)\n",
    "\n",
    "plt.figure(figsize=(10,4))\n",
    "df.class_id.hist(bins=10, color='r')\n",
    "plt.xlabel('Class Id')\n",
    "plt.ylabel('Counts')\n",
    "plt.show()\n",
    "print('Dataset size: ', len(df.class_id))"
   ]
  },
  {
   "cell_type": "code",
   "execution_count": 4,
   "metadata": {},
   "outputs": [],
   "source": [
    "# # for g, f in df.groupby(np.arange(len(df)) // 120):\n",
    "# #     print(type(f))\n",
    "\n",
    "# # def get_input_data(dataframe, batch_size, epochs, shuffle):\n",
    "# #     if epochs is not None:\n",
    "\n",
    "# def pp(data_set, epochs, steps, batch_size):\n",
    "    \n",
    "#     if epochs is not None and epochs >= 1:\n",
    "#         for _ in range(epochs):\n",
    "#             for _, f in data_set.groupby(np.arange(len(data_set)) // batch_size):\n",
    "#                 yield f\n",
    "                \n",
    "#     elif epochs is None:\n",
    "#         for _ in range(steps):\n",
    "#             data_set = data_set.sample(n=batch_size)\n",
    "#             image = np.array([i for i in data_set.image])\n",
    "#             labels = data_set['class_id'].values\n",
    "#             yield labels.shape\n",
    "\n",
    "# for j, i in enumerate(pp(df, epochs=2, steps=0, batch_size=5)):\n",
    "#     if j < 10:\n",
    "#         print(i.filename.iloc[0])"
   ]
  },
  {
   "cell_type": "code",
   "execution_count": 5,
   "metadata": {},
   "outputs": [
    {
     "data": {
      "text/html": [
       "<div>\n",
       "<style scoped>\n",
       "    .dataframe tbody tr th:only-of-type {\n",
       "        vertical-align: middle;\n",
       "    }\n",
       "\n",
       "    .dataframe tbody tr th {\n",
       "        vertical-align: top;\n",
       "    }\n",
       "\n",
       "    .dataframe thead th {\n",
       "        text-align: right;\n",
       "    }\n",
       "</style>\n",
       "<table border=\"1\" class=\"dataframe\">\n",
       "  <thead>\n",
       "    <tr style=\"text-align: right;\">\n",
       "      <th></th>\n",
       "      <th>class_id</th>\n",
       "      <th>filename</th>\n",
       "      <th>image</th>\n",
       "    </tr>\n",
       "  </thead>\n",
       "  <tbody>\n",
       "    <tr>\n",
       "      <th>44709</th>\n",
       "      <td>4</td>\n",
       "      <td>/home/ubuntu/.dataget/data/mnist/training-set/...</td>\n",
       "      <td>[[0, 0, 0, 0, 0, 0, 0, 0, 0, 0, 0, 0, 0, 0, 0,...</td>\n",
       "    </tr>\n",
       "    <tr>\n",
       "      <th>22189</th>\n",
       "      <td>5</td>\n",
       "      <td>/home/ubuntu/.dataget/data/mnist/training-set/...</td>\n",
       "      <td>[[0, 0, 0, 0, 0, 0, 0, 0, 0, 0, 0, 0, 0, 0, 0,...</td>\n",
       "    </tr>\n",
       "    <tr>\n",
       "      <th>2686</th>\n",
       "      <td>0</td>\n",
       "      <td>/home/ubuntu/.dataget/data/mnist/training-set/...</td>\n",
       "      <td>[[0, 0, 0, 0, 0, 0, 0, 0, 0, 0, 0, 0, 0, 1, 0,...</td>\n",
       "    </tr>\n",
       "    <tr>\n",
       "      <th>55887</th>\n",
       "      <td>2</td>\n",
       "      <td>/home/ubuntu/.dataget/data/mnist/training-set/...</td>\n",
       "      <td>[[0, 0, 0, 0, 0, 0, 0, 0, 0, 0, 0, 0, 0, 0, 0,...</td>\n",
       "    </tr>\n",
       "    <tr>\n",
       "      <th>56292</th>\n",
       "      <td>2</td>\n",
       "      <td>/home/ubuntu/.dataget/data/mnist/training-set/...</td>\n",
       "      <td>[[0, 0, 0, 0, 0, 0, 0, 0, 0, 0, 0, 0, 0, 0, 0,...</td>\n",
       "    </tr>\n",
       "  </tbody>\n",
       "</table>\n",
       "</div>"
      ],
      "text/plain": [
       "       class_id                                           filename  \\\n",
       "44709         4  /home/ubuntu/.dataget/data/mnist/training-set/...   \n",
       "22189         5  /home/ubuntu/.dataget/data/mnist/training-set/...   \n",
       "2686          0  /home/ubuntu/.dataget/data/mnist/training-set/...   \n",
       "55887         2  /home/ubuntu/.dataget/data/mnist/training-set/...   \n",
       "56292         2  /home/ubuntu/.dataget/data/mnist/training-set/...   \n",
       "\n",
       "                                                   image  \n",
       "44709  [[0, 0, 0, 0, 0, 0, 0, 0, 0, 0, 0, 0, 0, 0, 0,...  \n",
       "22189  [[0, 0, 0, 0, 0, 0, 0, 0, 0, 0, 0, 0, 0, 0, 0,...  \n",
       "2686   [[0, 0, 0, 0, 0, 0, 0, 0, 0, 0, 0, 0, 0, 1, 0,...  \n",
       "55887  [[0, 0, 0, 0, 0, 0, 0, 0, 0, 0, 0, 0, 0, 0, 0,...  \n",
       "56292  [[0, 0, 0, 0, 0, 0, 0, 0, 0, 0, 0, 0, 0, 0, 0,...  "
      ]
     },
     "execution_count": 5,
     "metadata": {},
     "output_type": "execute_result"
    }
   ],
   "source": [
    "df.head(5)"
   ]
  },
  {
   "cell_type": "code",
   "execution_count": 6,
   "metadata": {},
   "outputs": [],
   "source": [
    "# Training Parameters\n",
    "learning_rate = 0.001\n",
    "num_steps = 2000\n",
    "batch_size = 100\n",
    "epochs = 5\n",
    "\n",
    "# Network Parameters\n",
    "num_classes = 10 \n",
    "dropout = 0.25 # Dropout, probability to dnput_fn = tf.estimator.inputs.numpy_inpurop a unit"
   ]
  },
  {
   "cell_type": "code",
   "execution_count": 7,
   "metadata": {},
   "outputs": [],
   "source": [
    "# Neural Network\n",
    "def conv_net(features, labels, mode):\n",
    "    \n",
    "    print()\n",
    "    print(\"#######################\")\n",
    "    print(\"Model\")\n",
    "    print(\"#######################\")\n",
    "    \n",
    "    input_layer = tf.reshape(features[\"image\"], [-1, 28, 28, 1]);print(input_layer)\n",
    "\n",
    "    conv1 = tf.layers.conv2d(input_layer, 32, 5, activation=tf.nn.relu); print(conv1)\n",
    "    pool1 = tf.layers.max_pooling2d(conv1, 2, 2); print(pool1)\n",
    "\n",
    "    conv2 = tf.layers.conv2d(pool1, 64, 5, activation=tf.nn.relu); print(conv2)\n",
    "    pool2 = tf.layers.max_pooling2d(conv2, 2, 2); print(pool2)\n",
    "\n",
    "    # Flatten the data to a 1-D vector for the fully connected layer\n",
    "    pool2_flat = tf.contrib.layers.flatten(pool2); print(pool2_flat)\n",
    "\n",
    "    #fully connected layer\n",
    "    dense = tf.layers.dense(pool2_flat, 1024, activation=tf.nn.relu); print(dense)\n",
    "\n",
    "    #dropout\n",
    "    fc1 = tf.layers.dropout(dense, rate=dropout, training=mode == tf.estimator.ModeKeys.TRAIN); print(fc1)\n",
    "    logits = tf.layers.dense(fc1, units=num_classes); print(logits)\n",
    "    print(\"#######################\")\n",
    "    print()\n",
    "\n",
    "\n",
    "    predictions = {\n",
    "        \"classes\": tf.argmax(input=logits, axis=1),\n",
    "        \"probabilities\": tf.nn.softmax(logits, name=\"softmax_tensor\")\n",
    "    }\n",
    "\n",
    "    if mode == tf.estimator.ModeKeys.PREDICT:\n",
    "        return tf.estimator.EstimatorSpec(mode=mode, predictions=predictions)\n",
    "\n",
    "    # Calculate Loss\n",
    "    onehot_labels = tf.one_hot(indices=tf.cast(labels, tf.int32), depth=num_classes)\n",
    "    loss = tf.losses.softmax_cross_entropy(\n",
    "        onehot_labels=onehot_labels, logits=logits)\n",
    "\n",
    "    # Configure the Training Op\n",
    "    if mode == tf.estimator.ModeKeys.TRAIN:\n",
    "        optimizer = tf.train.AdamOptimizer(learning_rate=learning_rate)\n",
    "        train_op = optimizer.minimize(loss=loss, global_step=tf.train.get_global_step())\n",
    "        return tf.estimator.EstimatorSpec(mode=mode, loss=loss, train_op=train_op)\n",
    "\n",
    "    # Add evaluation metrics (for EVAL mode)\n",
    "    eval_metric_ops = {\n",
    "        \"accuracy\": tf.metrics.accuracy(\n",
    "            labels=labels, predictions=predictions[\"classes\"])}\n",
    "    return tf.estimator.EstimatorSpec(\n",
    "        mode=mode, loss=loss, eval_metric_ops=eval_metric_ops)"
   ]
  },
  {
   "cell_type": "code",
   "execution_count": 8,
   "metadata": {},
   "outputs": [
    {
     "name": "stdout",
     "output_type": "stream",
     "text": [
      "INFO:tensorflow:Using default config.\n",
      "INFO:tensorflow:Using config: {'_model_dir': '/tmp/mnist', '_tf_random_seed': None, '_save_summary_steps': 100, '_save_checkpoints_steps': None, '_save_checkpoints_secs': 600, '_session_config': None, '_keep_checkpoint_max': 5, '_keep_checkpoint_every_n_hours': 10000, '_log_step_count_steps': 100, '_service': None, '_cluster_spec': <tensorflow.python.training.server_lib.ClusterSpec object at 0x7fab8dfe2e80>, '_task_type': 'worker', '_task_id': 0, '_master': '', '_is_chief': True, '_num_ps_replicas': 0, '_num_worker_replicas': 1}\n"
     ]
    }
   ],
   "source": [
    "model = tf.estimator.Estimator(model_fn=conv_net, \n",
    "        model_dir=\"/tmp/mnist\")"
   ]
  },
  {
   "cell_type": "code",
   "execution_count": 9,
   "metadata": {},
   "outputs": [],
   "source": [
    "def process(df, epochs=epochs, steps=num_steps, batch_size=batch_size):\n",
    "    \n",
    "    if epochs:\n",
    "        steps = int(len(df)/batch_size)*epochs\n",
    "        \n",
    "    for _ in range(steps):\n",
    "        data_set = df.sample(n=batch_size)\n",
    "        image = np.array([i for i in data_set.image])\n",
    "        labels = data_set['class_id'].values\n",
    "        yield image, labels\n",
    "          \n",
    "def input_fn(df):\n",
    "    dataset = tf.data.Dataset.from_generator(\n",
    "        functools.partial(process, df=df),\n",
    "        (tf.float32, tf.float32),\n",
    "        (tf.TensorShape([batch_size, 28, 28]), tf.TensorShape([batch_size]))\n",
    "    )\n",
    "    features, labels = dataset.make_one_shot_iterator().get_next()\n",
    "    return {'image': features}, labels"
   ]
  },
  {
   "cell_type": "code",
   "execution_count": 10,
   "metadata": {
    "scrolled": true
   },
   "outputs": [
    {
     "name": "stdout",
     "output_type": "stream",
     "text": [
      "\n",
      "#######################\n",
      "Model\n",
      "#######################\n",
      "Tensor(\"Reshape:0\", shape=(100, 28, 28, 1), dtype=float32)\n",
      "Tensor(\"conv2d/Relu:0\", shape=(100, 24, 24, 32), dtype=float32)\n",
      "Tensor(\"max_pooling2d/MaxPool:0\", shape=(100, 12, 12, 32), dtype=float32)\n",
      "Tensor(\"conv2d_2/Relu:0\", shape=(100, 8, 8, 64), dtype=float32)\n",
      "Tensor(\"max_pooling2d_2/MaxPool:0\", shape=(100, 4, 4, 64), dtype=float32)\n",
      "Tensor(\"Flatten/flatten/Reshape:0\", shape=(100, 1024), dtype=float32)\n",
      "Tensor(\"dense/Relu:0\", shape=(100, 1024), dtype=float32)\n",
      "Tensor(\"dropout/dropout/mul:0\", shape=(100, 1024), dtype=float32)\n",
      "Tensor(\"dense_2/BiasAdd:0\", shape=(100, 10), dtype=float32)\n",
      "#######################\n",
      "\n",
      "INFO:tensorflow:Create CheckpointSaverHook.\n",
      "INFO:tensorflow:Saving checkpoints for 1 into /tmp/mnist/model.ckpt.\n",
      "INFO:tensorflow:loss = 36.1729, step = 1\n",
      "INFO:tensorflow:global_step/sec: 82.8261\n",
      "INFO:tensorflow:loss = 0.321721, step = 101 (1.208 sec)\n",
      "INFO:tensorflow:global_step/sec: 92.4974\n",
      "INFO:tensorflow:loss = 0.274213, step = 201 (1.081 sec)\n",
      "INFO:tensorflow:global_step/sec: 93.6084\n",
      "INFO:tensorflow:loss = 0.0847785, step = 301 (1.068 sec)\n",
      "INFO:tensorflow:global_step/sec: 94.7145\n",
      "INFO:tensorflow:loss = 0.0475526, step = 401 (1.056 sec)\n",
      "INFO:tensorflow:global_step/sec: 94.7752\n",
      "INFO:tensorflow:loss = 0.0177648, step = 501 (1.056 sec)\n",
      "INFO:tensorflow:global_step/sec: 95.1872\n",
      "INFO:tensorflow:loss = 0.271229, step = 601 (1.051 sec)\n",
      "INFO:tensorflow:global_step/sec: 95.4772\n",
      "INFO:tensorflow:loss = 0.325348, step = 701 (1.046 sec)\n",
      "INFO:tensorflow:global_step/sec: 96.453\n",
      "INFO:tensorflow:loss = 0.0626728, step = 801 (1.037 sec)\n",
      "INFO:tensorflow:global_step/sec: 96.4996\n",
      "INFO:tensorflow:loss = 0.0170455, step = 901 (1.036 sec)\n",
      "INFO:tensorflow:global_step/sec: 95.2118\n",
      "INFO:tensorflow:loss = 0.016229, step = 1001 (1.052 sec)\n",
      "INFO:tensorflow:global_step/sec: 97.068\n",
      "INFO:tensorflow:loss = 0.0621586, step = 1101 (1.029 sec)\n",
      "INFO:tensorflow:global_step/sec: 97.6066\n",
      "INFO:tensorflow:loss = 0.0669884, step = 1201 (1.025 sec)\n",
      "INFO:tensorflow:global_step/sec: 98.0351\n",
      "INFO:tensorflow:loss = 0.0777489, step = 1301 (1.020 sec)\n",
      "INFO:tensorflow:global_step/sec: 98.5071\n",
      "INFO:tensorflow:loss = 0.0550879, step = 1401 (1.017 sec)\n",
      "INFO:tensorflow:global_step/sec: 98.3478\n",
      "INFO:tensorflow:loss = 0.0561888, step = 1501 (1.015 sec)\n",
      "INFO:tensorflow:global_step/sec: 98.781\n",
      "INFO:tensorflow:loss = 0.0190567, step = 1601 (1.014 sec)\n",
      "INFO:tensorflow:global_step/sec: 98.3766\n",
      "INFO:tensorflow:loss = 0.104971, step = 1701 (1.017 sec)\n",
      "INFO:tensorflow:global_step/sec: 97.6383\n",
      "INFO:tensorflow:loss = 0.0417603, step = 1801 (1.022 sec)\n",
      "INFO:tensorflow:global_step/sec: 99.0605\n",
      "INFO:tensorflow:loss = 0.0354396, step = 1901 (1.011 sec)\n",
      "INFO:tensorflow:global_step/sec: 98.0646\n",
      "INFO:tensorflow:loss = 0.00361359, step = 2001 (1.020 sec)\n",
      "INFO:tensorflow:global_step/sec: 98.0558\n",
      "INFO:tensorflow:loss = 0.0463464, step = 2101 (1.020 sec)\n",
      "INFO:tensorflow:global_step/sec: 99.1922\n",
      "INFO:tensorflow:loss = 0.0481572, step = 2201 (1.008 sec)\n",
      "INFO:tensorflow:global_step/sec: 98.9474\n",
      "INFO:tensorflow:loss = 0.00874004, step = 2301 (1.009 sec)\n",
      "INFO:tensorflow:global_step/sec: 98.8775\n",
      "INFO:tensorflow:loss = 0.0173098, step = 2401 (1.011 sec)\n",
      "INFO:tensorflow:global_step/sec: 98.8457\n",
      "INFO:tensorflow:loss = 0.0150503, step = 2501 (1.012 sec)\n",
      "INFO:tensorflow:global_step/sec: 98.3292\n",
      "INFO:tensorflow:loss = 0.0278727, step = 2601 (1.017 sec)\n",
      "INFO:tensorflow:global_step/sec: 98.5084\n",
      "INFO:tensorflow:loss = 0.0207428, step = 2701 (1.017 sec)\n",
      "INFO:tensorflow:global_step/sec: 98.4496\n",
      "INFO:tensorflow:loss = 0.127134, step = 2801 (1.014 sec)\n",
      "INFO:tensorflow:global_step/sec: 97.7032\n",
      "INFO:tensorflow:loss = 0.0642283, step = 2901 (1.023 sec)\n",
      "INFO:tensorflow:Saving checkpoints for 3000 into /tmp/mnist/model.ckpt.\n",
      "INFO:tensorflow:Loss for final step: 0.0246672.\n"
     ]
    },
    {
     "data": {
      "text/plain": [
       "<tensorflow.python.estimator.estimator.Estimator at 0x7fab8dfe2b70>"
      ]
     },
     "execution_count": 10,
     "metadata": {},
     "output_type": "execute_result"
    }
   ],
   "source": [
    "# train the model\n",
    "model.train(input_fn=functools.partial(input_fn, df=df))"
   ]
  },
  {
   "cell_type": "code",
   "execution_count": 11,
   "metadata": {},
   "outputs": [
    {
     "name": "stdout",
     "output_type": "stream",
     "text": [
      "\n",
      "#######################\n",
      "Model\n",
      "#######################\n",
      "Tensor(\"Reshape:0\", shape=(100, 28, 28, 1), dtype=float32)\n",
      "Tensor(\"conv2d/Relu:0\", shape=(100, 24, 24, 32), dtype=float32)\n",
      "Tensor(\"max_pooling2d/MaxPool:0\", shape=(100, 12, 12, 32), dtype=float32)\n",
      "Tensor(\"conv2d_2/Relu:0\", shape=(100, 8, 8, 64), dtype=float32)\n",
      "Tensor(\"max_pooling2d_2/MaxPool:0\", shape=(100, 4, 4, 64), dtype=float32)\n",
      "Tensor(\"Flatten/flatten/Reshape:0\", shape=(100, 1024), dtype=float32)\n",
      "Tensor(\"dense/Relu:0\", shape=(100, 1024), dtype=float32)\n",
      "Tensor(\"dropout/Identity:0\", shape=(100, 1024), dtype=float32)\n",
      "Tensor(\"dense_2/BiasAdd:0\", shape=(100, 10), dtype=float32)\n",
      "#######################\n",
      "\n",
      "INFO:tensorflow:Starting evaluation at 2018-01-20-04:07:16\n",
      "INFO:tensorflow:Restoring parameters from /tmp/mnist/model.ckpt-3000\n",
      "INFO:tensorflow:Finished evaluation at 2018-01-20-04:07:18\n",
      "INFO:tensorflow:Saving dict for global step 3000: accuracy = 0.986, global_step = 3000, loss = 0.0503163\n"
     ]
    },
    {
     "data": {
      "text/plain": [
       "{'accuracy': 0.986, 'global_step': 3000, 'loss': 0.050316252}"
      ]
     },
     "execution_count": 11,
     "metadata": {},
     "output_type": "execute_result"
    }
   ],
   "source": [
    "# Evaluate the Model\n",
    "model.evaluate(input_fn=functools.partial(input_fn, df=dataset.test_set.dataframe()))"
   ]
  },
  {
   "cell_type": "code",
   "execution_count": null,
   "metadata": {},
   "outputs": [],
   "source": []
  },
  {
   "cell_type": "code",
   "execution_count": null,
   "metadata": {},
   "outputs": [],
   "source": []
  }
 ],
 "metadata": {
  "kernelspec": {
   "display_name": "Environment (conda_tensorflow_p36)",
   "language": "python",
   "name": "conda_tensorflow_p36"
  },
  "language_info": {
   "codemirror_mode": {
    "name": "ipython",
    "version": 3
   },
   "file_extension": ".py",
   "mimetype": "text/x-python",
   "name": "python",
   "nbconvert_exporter": "python",
   "pygments_lexer": "ipython3",
   "version": "3.6.3"
  }
 },
 "nbformat": 4,
 "nbformat_minor": 2
}
